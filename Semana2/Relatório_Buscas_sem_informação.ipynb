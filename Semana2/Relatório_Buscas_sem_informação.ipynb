{
  "nbformat": 4,
  "nbformat_minor": 0,
  "metadata": {
    "colab": {
      "name": "Meu Modelo Relatório - Buscas sem informação.ipynb",
      "provenance": [],
      "include_colab_link": true
    },
    "kernelspec": {
      "name": "python3",
      "display_name": "Python 3"
    },
    "language_info": {
      "name": "python"
    }
  },
  "cells": [
    {
      "cell_type": "markdown",
      "metadata": {
        "id": "view-in-github",
        "colab_type": "text"
      },
      "source": [
        "<a href=\"https://colab.research.google.com/github/Annagmo/treinamento-h2ia/blob/main/Relat%C3%B3rio_Buscas_sem_informa%C3%A7%C3%A3o.ipynb\" target=\"_parent\"><img src=\"https://colab.research.google.com/assets/colab-badge.svg\" alt=\"Open In Colab\"/></a>"
      ]
    },
    {
      "cell_type": "markdown",
      "metadata": {
        "id": "21uUELma0562"
      },
      "source": [
        "# O Problema\n",
        "Sliding Puzzle - Bloco Deslizante"
      ]
    },
    {
      "cell_type": "code",
      "metadata": {
        "colab": {
          "base_uri": "https://localhost:8080/",
          "height": 218
        },
        "id": "duRbJW3rz01L",
        "outputId": "fe193721-1b34-4385-a246-26693f5bdc45"
      },
      "source": [
        "# !wget -qq https://miro.medium.com/max/700/1*W7jg4GmEjGBypd9WPktasQ.gif\n",
        "from IPython.display import Image\n",
        "Image(url='https://miro.medium.com/max/700/1*W7jg4GmEjGBypd9WPktasQ.gif',width=200)"
      ],
      "execution_count": 58,
      "outputs": [
        {
          "output_type": "execute_result",
          "data": {
            "text/plain": [
              "<IPython.core.display.Image object>"
            ],
            "text/html": [
              "<img src=\"https://miro.medium.com/max/700/1*W7jg4GmEjGBypd9WPktasQ.gif\" width=\"200\"/>"
            ]
          },
          "metadata": {},
          "execution_count": 58
        }
      ]
    },
    {
      "cell_type": "markdown",
      "metadata": {
        "id": "f6TPxqB-1Cwx"
      },
      "source": [
        "# Resolver o quebra-cabeças usando Buscas"
      ]
    },
    {
      "cell_type": "markdown",
      "metadata": {
        "id": "o6ZClGCC1RxB"
      },
      "source": [
        "## Busca em largura"
      ]
    },
    {
      "cell_type": "code",
      "metadata": {
        "id": "cmJfg8CF0Jwc",
        "colab": {
          "base_uri": "https://localhost:8080/"
        },
        "outputId": "4f7f8707-bf4b-438b-d270-dfb12d0b7c92"
      },
      "source": [
        "import numpy as np\n",
        "from random import sample\n",
        "\n",
        "tabuleiro = np.array([[1,2,3]])\n",
        "\n",
        "matriz = sample(range(4, 7), 3)\n",
        "tabuleiro_aleat = np.array([matriz[i:i + 3] for i in range(0, len(matriz), 3)]) #inicializa uma matriz randômica de 0-3 e o método sample garante que é sem números repetidos\n",
        "tabuleiro = np.vstack((tabuleiro,tabuleiro_aleat)) \n",
        "tabuleiro = np.vstack((tabuleiro,[7,8,0]))\n",
        "tabuleiro #assim conseguimos que os 3 últimos nodos sejam randômicos mas não o tabuleiro inteiro, o que o colaboratory poderia não suportar."
      ],
      "execution_count": 119,
      "outputs": [
        {
          "output_type": "execute_result",
          "data": {
            "text/plain": [
              "array([[1, 2, 3],\n",
              "       [6, 4, 5],\n",
              "       [7, 8, 0]])"
            ]
          },
          "metadata": {},
          "execution_count": 119
        }
      ]
    },
    {
      "cell_type": "code",
      "source": [
        "#Para checar se o tabuleiro randomizado é solucionável:\n",
        "#A seguir está uma regra simples para verificar se um quebra-cabeça de 8 é solucionável.\n",
        "#Checamos as inversões. Não é possível resolver uma instância de 8 quebra-cabeças se o número de inversões for ímpar no estado de entrada.\n",
        "def getInvCount(arr):\n",
        "    contador_de_inv = 0\n",
        "    empty_value = -1\n",
        "    for i in range(0, 9):\n",
        "        for j in range(i + 1, 9):\n",
        "            if arr[j] != empty_value and arr[i] != empty_value and arr[i] > arr[j]:\n",
        "                contador_de_inv += 1\n",
        "    return contador_de_inv\n",
        " \n",
        "     \n",
        "\n",
        "def isSolvable(tabuleiro) : #retorna true ou false\n",
        " \n",
        "    # conta as inversões em um jogo de 8 quadrados\n",
        "    contador_de_inv = getInvCount([j for sub in tabuleiro for j in sub])\n",
        " \n",
        "    # verdadeiro se contador de inversão é par\n",
        "    return (contador_de_inv % 2 == 0)\n",
        "     \n",
        "print(isSolvable(tabuleiro))\n",
        "\n",
        "     "
      ],
      "metadata": {
        "colab": {
          "base_uri": "https://localhost:8080/"
        },
        "id": "7LGzA6XJPTtU",
        "outputId": "5d8afab2-d612-42f4-d120-5a0048051c93"
      },
      "execution_count": 120,
      "outputs": [
        {
          "output_type": "stream",
          "name": "stdout",
          "text": [
            "True\n"
          ]
        }
      ]
    },
    {
      "cell_type": "code",
      "source": [
        "class Estado_do_Jogo:\n",
        "  def __init__(self, state):\n",
        "    self.state = state\n",
        "    self.where_is_zero()\n",
        "\n",
        "  def check(self):\n",
        "    compare = np.array([[1, 2, 3],\n",
        "                        [4, 5, 6],\n",
        "                        [7, 8, 0]])\n",
        "    comparison = self.state == compare\n",
        "    return comparison.all()  \n",
        "  \n",
        "  def check_moves(self):\n",
        "    possibles_moves = []\n",
        "    if( self.column > 0 ):\n",
        "      possibles_moves.append('a')\n",
        "    if( self.column < 2 ):\n",
        "      possibles_moves.append('d')\n",
        "    if( self.row > 0 ):\n",
        "      possibles_moves.append('w')\n",
        "    if( self.row < 2 ):\n",
        "      possibles_moves.append('s')\n",
        "    return possibles_moves\n",
        "\n",
        "  def where_is_zero(self):\n",
        "    self.row, self.column = np.where( self.state == 0)\n",
        "\n",
        "\n",
        "  def move(self, position):\n",
        "    self.where_is_zero()\n",
        "    move_done = self.state.copy()\n",
        "\n",
        "    if(position == 'w'):\n",
        "      value = move_done[self.row-1, self.column]\n",
        "      move_done[self.row, self.column] = value\n",
        "      move_done[self.row-1, self.column] = 0\n",
        "      \n",
        "      return move_done\n",
        "    if(position == 'd'):\n",
        "      value = move_done[self.row, self.column+1]\n",
        "      move_done[self.row, self.column] = value\n",
        "      move_done[self.row, self.column+1] = 0\n",
        "      self.column += 1\n",
        "      \n",
        "      return move_done\n",
        "\n",
        "    if(position == 's'):\n",
        "      value = move_done[self.row+1, self.column]\n",
        "      move_done[self.row, self.column] = value\n",
        "      move_done[self.row+1, self.column] = 0\n",
        "      self.row += 1\n",
        "      \n",
        "      return move_done\n",
        "\n",
        "    if(position == 'a'):\n",
        "      value = move_done[self.row, self.column-1]\n",
        "      move_done[self.row, self.column] = value\n",
        "      move_done[self.row, self.column-1] = 0\n",
        "      self.column -= 1\n",
        "      return move_done\n",
        "\n",
        "    return move_done"
      ],
      "metadata": {
        "id": "xp8jIOecUGZ7"
      },
      "execution_count": 121,
      "outputs": []
    },
    {
      "cell_type": "code",
      "source": [
        "class Node:\n",
        "  def __init__(self, state):\n",
        "    self.state = Estado_do_Jogo(state)\n",
        "    self.children = []\n",
        "  \n",
        "  def parent_node(self, node):\n",
        "    self.parent = node\n",
        "    \n",
        "  def children_node(self, child):\n",
        "    self.children.append(child)"
      ],
      "metadata": {
        "id": "4h7wP_n8KYZ4"
      },
      "execution_count": 122,
      "outputs": []
    },
    {
      "cell_type": "code",
      "source": [
        "def visited_node(locked_nodes, node):\n",
        "    for actual_node in locked_nodes:\n",
        "      comparison = actual_node == node.state.state\n",
        "      if comparison.all():\n",
        "        return True\n",
        "    return False"
      ],
      "metadata": {
        "id": "FRtmtHFxKeQm"
      },
      "execution_count": 123,
      "outputs": []
    },
    {
      "cell_type": "code",
      "source": [
        "def put_children(node, locked_nodes, list):\n",
        "  node.children = []\n",
        "  moves = node.state.check_moves()\n",
        "  for move in moves:\n",
        "    child = node.state.move(move)\n",
        "    child_node = Node(child)\n",
        "    if not visited_node(locked_nodes, child_node):\n",
        "      node.children_node(child_node)\n",
        "      child_node.parent_node(node)\n",
        "      list.append(child_node)\n",
        "  return node"
      ],
      "metadata": {
        "id": "lgEHvtEKKizp"
      },
      "execution_count": 124,
      "outputs": []
    },
    {
      "cell_type": "code",
      "source": [
        "# busca em largura\n",
        "stack = []\n",
        "queue = []\n",
        "locked_nodes = []\n",
        "movements = 0\n",
        "node = Node(tabuleiro)\n",
        "\n",
        "node = put_children(node, locked_nodes, queue)\n",
        "movements += 1\n",
        "\n",
        "node = queue.pop(0)\n",
        "if(isSolvable(tabuleiro)):\n",
        "  while (len(queue) != 0):\n",
        "    if (node.state.check()):\n",
        "      print(movements)\n",
        "      break\n",
        "    else:\n",
        "      locked_nodes.append(node.state.state.copy())\n",
        "      node = put_children(node, locked_nodes, queue)\n",
        "      movements += 1\n",
        "      node = queue.pop(0)\n",
        "else:\n",
        "  print('O tabuleiro não tem solução.')"
      ],
      "metadata": {
        "id": "WioSjDJhkBVV",
        "colab": {
          "base_uri": "https://localhost:8080/"
        },
        "outputId": "90ad92c4-52e1-44d6-a7ca-63ca4bb28abd"
      },
      "execution_count": 125,
      "outputs": [
        {
          "output_type": "stream",
          "name": "stdout",
          "text": [
            "4624\n"
          ]
        }
      ]
    },
    {
      "cell_type": "markdown",
      "metadata": {
        "id": "zCCoey-J1U5t"
      },
      "source": [
        "## Busca em Profundidade"
      ]
    },
    {
      "cell_type": "code",
      "metadata": {
        "id": "XJkS_j3m8A4x"
      },
      "source": [
        ""
      ],
      "execution_count": 66,
      "outputs": []
    },
    {
      "cell_type": "markdown",
      "metadata": {
        "id": "rXU5HkCd1ZPu"
      },
      "source": [
        "## Discorra sobre o desempenho dos métodos em questões de:\n",
        "\n",
        "\n",
        "1.   Consumo de memória\n",
        "2.   Processamento\n",
        "\n"
      ]
    },
    {
      "cell_type": "code",
      "metadata": {
        "id": "-M6rztKu1W1j"
      },
      "source": [
        ""
      ],
      "execution_count": 66,
      "outputs": []
    }
  ]
}
